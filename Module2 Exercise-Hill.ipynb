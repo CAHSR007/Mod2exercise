{
 "cells": [
  {
   "cell_type": "markdown",
   "metadata": {},
   "source": [
    "## Exercises\n",
    "### Write the pseudocode for these problems. \n",
    "\n",
    "#### Define the problem by constructing an IPO diagram showing input, output, and processing steps\n",
    "Ask yourself\n",
    "- What control structures (sequence, selection and repetition) are required?\n",
    "- What variables are required?\n",
    "\n",
    "Show a check of your solution with **test data** for at least **two valid test cases**\n",
    "If you use the numbers provided in the example then the correct pseudocode will calculate the same result.\n",
    "    "
   ]
  },
  {
   "cell_type": "markdown",
   "metadata": {},
   "source": [
    "#### 1. Find the average score\n",
    "A program is needed to prompt the user operator for exam scores, calculate the average score and display the result to the screen. The average score is calculated as the sum of the scores divided by the number of scores."
   ]
  },
  {
   "cell_type": "markdown",
   "metadata": {},
   "source": [
    "I scores        P           O  average\n",
    "\n",
    "\n",
    "BEGIN\n",
    "\n",
    "Create a variable called total_score and set equal to zero.\n",
    "Prompt user to enter 5 scores of int type.\n",
    "Add each entered score to total_score.\n",
    "Divide total_score by 5 and set equal to average_score.\n",
    "Print average_score.\n",
    "\n",
    "END"
   ]
  },
  {
   "cell_type": "markdown",
   "metadata": {},
   "source": [
    "#### 2. How much water runs off a roof in a rain storm?\n",
    "To calculate the runoff from any given rainfall: Take the dimensions of the footprint of the roof and convert them to inches. (So, a 50' x 20' roof is 600\" x 240\"). Multiply the roof dimensions by the number of inches of rainfall. As an example, 600\" x 240\" x 1\" = 144,000 cubic inches of water for an inch of rainfall. Divide that result by 231 to get the number of gallons (because 1 gallon = 231 cubic inches). (144,000/231 = 623.38)."
   ]
  },
  {
   "cell_type": "markdown",
   "metadata": {},
   "source": [
    "I roof dimensions, rainfall        P           O  gallons of rain\n",
    "\n",
    "Calculate the area of the roof in inches.\n",
    "Multiply the area of the roof by the number of inches of rainfall.\n",
    "Convert the number of inches of rainfall to gallons.\n"
   ]
  },
  {
   "cell_type": "markdown",
   "metadata": {},
   "source": [
    "#### 3. Process customer record\n",
    "A program is required to read a customer’s name, a purchase amount and a tax code. The tax code has been validated and will be one of the following: 0 tax exempt (0%) 1 state sales tax only (3%) 2 federal and state sales tax (5%) 3 special sales tax (7%) The program must then compute the sales tax and the total amount due,and print the customer’s name, purchase amount, sales tax and total amount due.\n",
    "\n",
    "I purchase amount, tax        P         O  purchase amount, tax, subtotal, total  \n",
    "\n",
    "BEGIN\n",
    "\n",
    "Set customer name equal to name\n",
    "Set purchase amount equal to purch_amt\n",
    "\n",
    "tax0 = 0.0 exempt\n",
    "tax1 = 0.03 state tax only\n",
    "tax2 = 0.05 state tax + Federal\n",
    "tax3 = 0.07 special sales tax\n",
    "\n",
    "Prompt for customer name\n",
    "Prompt for purch_amt\n",
    "Prompt for sales tax\n",
    "\n",
    "\n",
    "Set purch_amt equal to subtotal\n",
    "Multiply purch_amt by appropriate tax and set equal to tax\n",
    "Add tax to purch_amt and set equal to total_amt\n",
    "\n",
    "\n",
    "Print name\n",
    "Print purch_amt\n",
    "Print subtotal\n",
    "Print tax\n",
    "Print total_amt\n",
    "\n",
    "End\n"
   ]
  },
  {
   "cell_type": "markdown",
   "metadata": {},
   "source": [
    "Type Markdown and LaTeX:  𝛼2"
   ]
  },
  {
   "cell_type": "markdown",
   "metadata": {},
   "source": [
    "#### 4. Calculate employee's pay \n",
    "A program is required by a company to read an employee’s number, pay rate and the number of hours worked in a week. The program is then to validate the pay rate field and the hours worked field and, if valid, compute the employee’s weekly pay and then print it and the input data.\n",
    "\n",
    "Validation: According to the company’s rules, the maximum hours an employee can work per week is 60 hours, and the maximum hourly rate is $25.00 per hour. If the hours worked field or the hourly rate field is out of range, the input data and an appropriate message are to be printed and the employee’s weekly pay is not to be calculated.\n",
    "\n",
    "Weekly pay calculation: Weekly pay is calculated as hours worked times pay rate. If more than 35 hours are worked, payment for the overtime hours worked is calculated at time-and-a-half."
   ]
  },
  {
   "cell_type": "markdown",
   "metadata": {},
   "source": [
    "I                    P     O  employee number   employee number,pay rate, weekly hours worked                                                         hours_weekly weekly_pay \n",
    "\n",
    "\n",
    "BEGIN\n",
    "Set employee_number = employee number\n",
    "Set pay_rate = pay rate\n",
    "Set hours_weekly =  weekly hours worked\n",
    "\n",
    "Prompt employee for employee number\n",
    "Prompt employee for pay rate\n",
    "Prompt employee for weekly hours\n",
    "\n",
    "If pay rate is greater than 25.00 display Incorrect pay rate\n",
    "\n",
    "If hours are greater than 60.00 display Incorrect hours entry\n",
    "\n",
    "Multiply hours_weekly by pay_rate and save as weekly_pay\n",
    "\n",
    "Print employee number\n",
    "Print hours_weekly\n",
    "Print weekly_pay\n",
    "\n",
    "END"
   ]
  }
 ],
 "metadata": {
  "kernelspec": {
   "display_name": "Python 3 (ipykernel)",
   "language": "python",
   "name": "python3"
  },
  "language_info": {
   "codemirror_mode": {
    "name": "ipython",
    "version": 3
   },
   "file_extension": ".py",
   "mimetype": "text/x-python",
   "name": "python",
   "nbconvert_exporter": "python",
   "pygments_lexer": "ipython3",
   "version": "3.11.4"
  }
 },
 "nbformat": 4,
 "nbformat_minor": 2
}
